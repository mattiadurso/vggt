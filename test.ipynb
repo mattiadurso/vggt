{
 "cells": [
  {
   "cell_type": "code",
   "execution_count": 1,
   "id": "8495c489",
   "metadata": {},
   "outputs": [],
   "source": [
    "%load_ext autoreload\n",
    "%autoreload 2"
   ]
  },
  {
   "cell_type": "code",
   "execution_count": 2,
   "id": "e113e9c4",
   "metadata": {},
   "outputs": [
    {
     "name": "stderr",
     "output_type": "stream",
     "text": [
      "/home/mattia/miniconda3/envs/keypoint_factory/lib/python3.10/site-packages/tqdm/auto.py:21: TqdmWarning: IProgress not found. Please update jupyter and ipywidgets. See https://ipywidgets.readthedocs.io/en/stable/user_install.html\n",
      "  from .autonotebook import tqdm as notebook_tqdm\n"
     ]
    }
   ],
   "source": [
    "import pycolmap\n",
    "from vggt.wrapper import VGGTWrapper"
   ]
  },
  {
   "cell_type": "code",
   "execution_count": 4,
   "id": "90a50a8f",
   "metadata": {},
   "outputs": [
    {
     "name": "stdout",
     "output_type": "stream",
     "text": [
      "VGGT model loaded successfully\n",
      "VGGTWrapper initialized on cuda with dtype torch.bfloat16\n"
     ]
    }
   ],
   "source": [
    "vggt = VGGTWrapper()"
   ]
  },
  {
   "cell_type": "code",
   "execution_count": 3,
   "id": "b5d84e3f",
   "metadata": {},
   "outputs": [],
   "source": [
    "rec_path = \"wrapper_output/sparse\"\n",
    "rec = pycolmap.Reconstruction(rec_path)"
   ]
  },
  {
   "cell_type": "code",
   "execution_count": null,
   "id": "daf99908",
   "metadata": {},
   "outputs": [],
   "source": []
  }
 ],
 "metadata": {
  "kernelspec": {
   "display_name": "keypoint_factory",
   "language": "python",
   "name": "python3"
  },
  "language_info": {
   "codemirror_mode": {
    "name": "ipython",
    "version": 3
   },
   "file_extension": ".py",
   "mimetype": "text/x-python",
   "name": "python",
   "nbconvert_exporter": "python",
   "pygments_lexer": "ipython3",
   "version": "3.10.16"
  }
 },
 "nbformat": 4,
 "nbformat_minor": 5
}
